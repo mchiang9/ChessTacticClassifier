{
 "cells": [
  {
   "cell_type": "markdown",
   "metadata": {
    "collapsed": true
   },
   "source": [
    "# Chess Tactic Classifier"
   ]
  },
  {
   "cell_type": "markdown",
   "metadata": {},
   "source": [
    "## Introduction"
   ]
  },
  {
   "cell_type": "markdown",
   "metadata": {},
   "source": [
    "_In chess, a tactic refers to a sequence of moves that limits the opponent's options and may result in tangible gain. (Wikipedia)_\n",
    "\n",
    "Chess players often solve many tactics of a single theme in order to improve their pattern recognition skills. In order to enable this, chess websites such as Chess.com need to assign labels to the tactics in their large databases of tactics. Often this is done manually, by users tagging tactics with the themes they believe are relevant.\n",
    "\n",
    "Our goal with this project is to automate that process of tagging for a small subset of tactic themes."
   ]
  },
  {
   "cell_type": "markdown",
   "metadata": {},
   "source": [
    "## Web Scraping"
   ]
  },
  {
   "cell_type": "markdown",
   "metadata": {},
   "source": [
    "First, we need to gather the data by scraping tactic information from Chess.com. To do this we'll load a module we wrote that contains some useful functions. This module uses the BeautifulSoup package:"
   ]
  },
  {
   "cell_type": "code",
   "execution_count": 26,
   "metadata": {
    "collapsed": true
   },
   "outputs": [],
   "source": [
    "# %load ..\\src\\web_scraping\\url_utils.py\n",
    "\"\"\"python module for web scraping chess tactics with beautifulsoup\"\"\"\n",
    "import csv\n",
    "import urllib.request\n",
    "import pandas as pd\n",
    "import numpy as np\n",
    "from bs4 import BeautifulSoup\n",
    "\n",
    "def open_as_firefox(url):\n",
    "    \"\"\"adds headers when using urllib.request.URLopener to avoid 403 error. Code from:\n",
    "    https://stackoverflow.com/questions/22877619/python3-urllib-error-httperror-http-error-403-forbidden\"\"\"\n",
    "    u_obj = urllib.request.URLopener() # Python 3: urllib.request.URLOpener\n",
    "    u_obj.addheaders = []\n",
    "    u_obj.addheader('User-Agent', 'Mozilla/5.0')\n",
    "    u_obj.addheader('Accept-Language', 'de-DE,de;q=0.9,en;q=0.8')\n",
    "    u_obj.addheader('Accept', 'text/html, application/xml;q=0.9, application/xhtml+xml, image/png,\\\n",
    "    image/webp, image/jpeg, image/gif, image/x-xbitmap, */*;q=0.1')\n",
    "    file_from_url = u_obj.open(url)\n",
    "    res = file_from_url.read()\n",
    "    file_from_url.close()\n",
    "    return res\n",
    "\n",
    "def get_tactic_urls(tactic_id, page):\n",
    "    \"\"\"returns the urls for the given page with given id\"\"\"\n",
    "    url = \"https://www.chess.com/tactics/problems?tagId=\" + str(tactic_id) + \"&page=\" + str(page)\n",
    "    content = open_as_firefox(url)\n",
    "    soup = BeautifulSoup(content, \"html.parser\")\n",
    "    table_of_tactics = soup.find(\"table\").find_all('tr')\n",
    "    counter = 0\n",
    "    url_list = []\n",
    "    while counter < len(table_of_tactics):\n",
    "        t_url = table_of_tactics[counter].find('a').get('href')\n",
    "        t_rating = int(table_of_tactics[counter].find_all('td')[1].get_text())\n",
    "        t_moves = int(table_of_tactics[counter].find_all('td')[4].get_text())\n",
    "        if t_rating < 1200 and t_moves < 2:\n",
    "            url_list.append(t_url)\n",
    "        counter += 1\n",
    "    return url_list\n",
    "\n",
    "def get_n_tactic_urls(tactic_id, n_urls):\n",
    "    \"\"\"returns n tactics with the given id number\"\"\"\n",
    "    count = 1\n",
    "    url_list = []\n",
    "    while len(url_list) < n_urls:\n",
    "        #url_list.append(get_tactic_urls(tactic_id, count))\n",
    "        url_list = url_list + get_tactic_urls(tactic_id, count)\n",
    "        count += 1\n",
    "    #return np.array(url_list).flatten()\n",
    "    return url_list\n",
    "\n",
    "def get_fen_mover(fen):\n",
    "    \"\"\"from fen string, get the simple fen and the mover separately\"\"\"\n",
    "    res = fen.replace('\\\\', '').split(' ')\n",
    "    res[1] = \"white\" if res[1] == 'w' else \"black\"\n",
    "    return res\n",
    "\n",
    "def get_moves(mvs):\n",
    "    \"\"\"from string of moves, get each move\"\"\"\n",
    "    res = mvs.replace('\\\\', '').replace('.', '').split()\n",
    "    if len(res) > 3:\n",
    "        return [res[1], res[3]]\n",
    "    else:\n",
    "        return [res[1], res[2]]\n",
    "\n",
    "\n",
    "def fen_scrape(url, t_type):\n",
    "    \"\"\"take a chess.com tactic url and scrape fen and moves\"\"\"\n",
    "    content = open_as_firefox(url)\n",
    "    soup = BeautifulSoup(content, \"html.parser\")\n",
    "    # figure out what's in the soup and what we need from it\n",
    "    long_str = soup.find(class_=\"chess-board-container\").get('ng-init').split('\"')\n",
    "    fen_id = long_str.index(\"initialFen\") # returns 13, so we want 15\n",
    "    fen_str = long_str[fen_id + 2]\n",
    "    clean_fen = get_fen_mover(fen_str)\n",
    "    moves_id = long_str.index(']\\\\n[FULL \\\\')\n",
    "    moves_str = long_str[moves_id + 1]\n",
    "    clean_moves = get_moves(moves_str)\n",
    "    res_arr = [clean_fen[0], clean_moves[0], clean_moves[1], clean_fen[1], t_type]\n",
    "    return res_arr\n",
    "\n",
    "def write_tactic_csv(fname, tactic_url_array, t_type):\n",
    "    \"\"\"takes as input name of file and the array of tactic urls\n",
    "    and writes line by line to a .csv\"\"\"\n",
    "    with open(fname, 'w', newline='') as csvfile:\n",
    "        csv_writer = csv.writer(csvfile)\n",
    "        csv_writer.writerow([\"FEN\", \"First Move\", \"Second Move\", \"Who Moved\", \"Tactic\"])\n",
    "        for u in tactic_url_array:\n",
    "            csv_writer.writerow(fen_scrape(u, t_type))\n"
   ]
  },
  {
   "cell_type": "markdown",
   "metadata": {},
   "source": [
    "Next, we'll use these functions to extract fork, skewer and trapped piece tactics."
   ]
  },
  {
   "cell_type": "code",
   "execution_count": 28,
   "metadata": {},
   "outputs": [
    {
     "name": "stderr",
     "output_type": "stream",
     "text": [
      "C:\\ProgramData\\Anaconda3\\lib\\site-packages\\ipykernel_launcher.py:25: DeprecationWarning: URLopener style of invoking requests is deprecated. Use newer urlopen functions/methods\n"
     ]
    },
    {
     "ename": "FileNotFoundError",
     "evalue": "[Errno 2] No such file or directory: '../../data/fork.csv'",
     "output_type": "error",
     "traceback": [
      "\u001b[1;31m---------------------------------------------------------------------------\u001b[0m",
      "\u001b[1;31mFileNotFoundError\u001b[0m                         Traceback (most recent call last)",
      "\u001b[1;32m<ipython-input-28-cd18ea1ceee1>\u001b[0m in \u001b[0;36m<module>\u001b[1;34m()\u001b[0m\n\u001b[0;32m      3\u001b[0m \u001b[0mTRAPPED\u001b[0m \u001b[1;33m=\u001b[0m \u001b[0mget_n_tactic_urls\u001b[0m\u001b[1;33m(\u001b[0m\u001b[1;36m29\u001b[0m\u001b[1;33m,\u001b[0m \u001b[1;36m15\u001b[0m\u001b[1;33m)\u001b[0m\u001b[1;33m\u001b[0m\u001b[0m\n\u001b[0;32m      4\u001b[0m \u001b[1;33m\u001b[0m\u001b[0m\n\u001b[1;32m----> 5\u001b[1;33m \u001b[0mwrite_tactic_csv\u001b[0m\u001b[1;33m(\u001b[0m\u001b[1;34m\"../../data/fork.csv\"\u001b[0m\u001b[1;33m,\u001b[0m \u001b[0mFORKS\u001b[0m\u001b[1;33m,\u001b[0m \u001b[1;34m\"fork\"\u001b[0m\u001b[1;33m)\u001b[0m\u001b[1;33m\u001b[0m\u001b[0m\n\u001b[0m\u001b[0;32m      6\u001b[0m \u001b[0mwrite_tactic_csv\u001b[0m\u001b[1;33m(\u001b[0m\u001b[1;34m\"../../data/skewer.csv\"\u001b[0m\u001b[1;33m,\u001b[0m \u001b[0mSKEWERS\u001b[0m\u001b[1;33m,\u001b[0m \u001b[1;34m\"skewer\"\u001b[0m\u001b[1;33m)\u001b[0m\u001b[1;33m\u001b[0m\u001b[0m\n\u001b[0;32m      7\u001b[0m \u001b[0mwrite_tactic_csv\u001b[0m\u001b[1;33m(\u001b[0m\u001b[1;34m\"../../data/trapped.csv\"\u001b[0m\u001b[1;33m,\u001b[0m \u001b[0mTRAPPED\u001b[0m\u001b[1;33m,\u001b[0m \u001b[1;34m\"trapped\"\u001b[0m\u001b[1;33m)\u001b[0m\u001b[1;33m\u001b[0m\u001b[0m\n",
      "\u001b[1;32m<ipython-input-26-21ce65174cf1>\u001b[0m in \u001b[0;36mwrite_tactic_csv\u001b[1;34m(fname, tactic_url_array, t_type)\u001b[0m\n\u001b[0;32m     81\u001b[0m     \"\"\"takes as input name of file and the array of tactic urls\n\u001b[0;32m     82\u001b[0m     and writes line by line to a .csv\"\"\"\n\u001b[1;32m---> 83\u001b[1;33m     \u001b[1;32mwith\u001b[0m \u001b[0mopen\u001b[0m\u001b[1;33m(\u001b[0m\u001b[0mfname\u001b[0m\u001b[1;33m,\u001b[0m \u001b[1;34m'w'\u001b[0m\u001b[1;33m,\u001b[0m \u001b[0mnewline\u001b[0m\u001b[1;33m=\u001b[0m\u001b[1;34m''\u001b[0m\u001b[1;33m)\u001b[0m \u001b[1;32mas\u001b[0m \u001b[0mcsvfile\u001b[0m\u001b[1;33m:\u001b[0m\u001b[1;33m\u001b[0m\u001b[0m\n\u001b[0m\u001b[0;32m     84\u001b[0m         \u001b[0mcsv_writer\u001b[0m \u001b[1;33m=\u001b[0m \u001b[0mcsv\u001b[0m\u001b[1;33m.\u001b[0m\u001b[0mwriter\u001b[0m\u001b[1;33m(\u001b[0m\u001b[0mcsvfile\u001b[0m\u001b[1;33m)\u001b[0m\u001b[1;33m\u001b[0m\u001b[0m\n\u001b[0;32m     85\u001b[0m         \u001b[0mcsv_writer\u001b[0m\u001b[1;33m.\u001b[0m\u001b[0mwriterow\u001b[0m\u001b[1;33m(\u001b[0m\u001b[1;33m[\u001b[0m\u001b[1;34m\"FEN\"\u001b[0m\u001b[1;33m,\u001b[0m \u001b[1;34m\"First Move\"\u001b[0m\u001b[1;33m,\u001b[0m \u001b[1;34m\"Second Move\"\u001b[0m\u001b[1;33m,\u001b[0m \u001b[1;34m\"Who Moved\"\u001b[0m\u001b[1;33m,\u001b[0m \u001b[1;34m\"Tactic\"\u001b[0m\u001b[1;33m]\u001b[0m\u001b[1;33m)\u001b[0m\u001b[1;33m\u001b[0m\u001b[0m\n",
      "\u001b[1;31mFileNotFoundError\u001b[0m: [Errno 2] No such file or directory: '../../data/fork.csv'"
     ]
    }
   ],
   "source": [
    "FORKS = get_n_tactic_urls(11, 15)\n",
    "SKEWERS = get_n_tactic_urls(26, 15)\n",
    "TRAPPED = get_n_tactic_urls(29, 15)\n",
    "\n",
    "write_tactic_csv(\"../data/fork.csv\", FORKS, \"fork\")\n",
    "write_tactic_csv(\"../data/skewer.csv\", SKEWERS, \"skewer\")\n",
    "write_tactic_csv(\"../data/trapped.csv\", TRAPPED, \"trapped\")"
   ]
  },
  {
   "cell_type": "code",
   "execution_count": null,
   "metadata": {
    "collapsed": true
   },
   "outputs": [],
   "source": []
  }
 ],
 "metadata": {
  "kernelspec": {
   "display_name": "Python 3",
   "language": "python",
   "name": "python3"
  },
  "language_info": {
   "codemirror_mode": {
    "name": "ipython",
    "version": 3
   },
   "file_extension": ".py",
   "mimetype": "text/x-python",
   "name": "python",
   "nbconvert_exporter": "python",
   "pygments_lexer": "ipython3",
   "version": "3.6.2"
  }
 },
 "nbformat": 4,
 "nbformat_minor": 2
}
